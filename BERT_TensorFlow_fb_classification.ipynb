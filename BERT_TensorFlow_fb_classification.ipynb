{
 "cells": [
  {
   "cell_type": "code",
   "execution_count": 15,
   "metadata": {
    "_cell_guid": "b1076dfc-b9ad-4769-8c92-a6c4dae69d19",
    "_uuid": "8f2839f25d086af736a60e9eeb907d3b93b6e0e5",
    "execution": {
     "iopub.execute_input": "2025-06-09T15:21:47.898117Z",
     "iopub.status.busy": "2025-06-09T15:21:47.897558Z",
     "iopub.status.idle": "2025-06-09T15:21:47.901884Z",
     "shell.execute_reply": "2025-06-09T15:21:47.901145Z",
     "shell.execute_reply.started": "2025-06-09T15:21:47.898096Z"
    },
    "trusted": true
   },
   "outputs": [],
   "source": [
    "import re\n",
    "import numpy as np\n",
    "import pandas as pd\n",
    "import tensorflow as tf\n",
    "from sklearn.model_selection import train_test_split\n",
    "from sklearn.metrics import f1_score\n",
    "from transformers import AutoTokenizer, TFAutoModelForSequenceClassification"
   ]
  },
  {
   "cell_type": "code",
   "execution_count": 16,
   "metadata": {
    "execution": {
     "iopub.execute_input": "2025-06-09T15:21:47.903589Z",
     "iopub.status.busy": "2025-06-09T15:21:47.903378Z",
     "iopub.status.idle": "2025-06-09T15:21:47.917007Z",
     "shell.execute_reply": "2025-06-09T15:21:47.916306Z",
     "shell.execute_reply.started": "2025-06-09T15:21:47.903574Z"
    },
    "trusted": true
   },
   "outputs": [],
   "source": [
    "# ─── 1) TEXT CLEANER\n",
    "def clean_text(text):\n",
    "    text = text.lower()\n",
    "    text = re.sub(r\"http\\S+|www\\.\\S+\", \"\", text)\n",
    "    text = re.sub(r\"[^a-z0-9\\s']\", \" \", text)\n",
    "    return re.sub(r\"\\s+\", \" \", text).strip()"
   ]
  },
  {
   "cell_type": "code",
   "execution_count": null,
   "metadata": {
    "execution": {
     "iopub.execute_input": "2025-06-09T15:21:47.918099Z",
     "iopub.status.busy": "2025-06-09T15:21:47.917748Z",
     "iopub.status.idle": "2025-06-09T15:21:48.151153Z",
     "shell.execute_reply": "2025-06-09T15:21:48.150572Z",
     "shell.execute_reply.started": "2025-06-09T15:21:47.918051Z"
    },
    "trusted": true
   },
   "outputs": [],
   "source": [
    "# ─── 2) LOAD & PREPARE LABELED DATA\n",
    "labeled = pd.read_csv(\"FB_posts_labeled.txt\", sep=\"\\t\")\n",
    "labeled['msg'] = labeled['message'].astype(str).map(clean_text)\n",
    "# one-hot → single label\n",
    "labeled['label'] = labeled[['Appreciation','Complaint','Feedback']].values.argmax(axis=1)"
   ]
  },
  {
   "cell_type": "code",
   "execution_count": 18,
   "metadata": {
    "execution": {
     "iopub.execute_input": "2025-06-09T15:21:48.152129Z",
     "iopub.status.busy": "2025-06-09T15:21:48.151860Z",
     "iopub.status.idle": "2025-06-09T15:21:48.163743Z",
     "shell.execute_reply": "2025-06-09T15:21:48.163183Z",
     "shell.execute_reply.started": "2025-06-09T15:21:48.152112Z"
    },
    "trusted": true
   },
   "outputs": [],
   "source": [
    "# ─── 3) SPLIT TRAIN / VAL\n",
    "train_df, val_df = train_test_split(\n",
    "    labeled, test_size=0.2, stratify=labeled['label'], random_state=42\n",
    ")"
   ]
  },
  {
   "cell_type": "code",
   "execution_count": 19,
   "metadata": {
    "execution": {
     "iopub.execute_input": "2025-06-09T15:21:48.165742Z",
     "iopub.status.busy": "2025-06-09T15:21:48.165541Z",
     "iopub.status.idle": "2025-06-09T15:21:48.737655Z",
     "shell.execute_reply": "2025-06-09T15:21:48.736976Z",
     "shell.execute_reply.started": "2025-06-09T15:21:48.165727Z"
    },
    "trusted": true
   },
   "outputs": [],
   "source": [
    "# ─── 4) TOKENIZER\n",
    "MODEL_ID = \"vinai/bertweet-base\"\n",
    "tokenizer = AutoTokenizer.from_pretrained(MODEL_ID, use_fast=False)\n",
    "\n",
    "def tokenize_texts(texts, max_len=128):\n",
    "    return tokenizer(\n",
    "        texts.tolist(),\n",
    "        padding='max_length',\n",
    "        truncation=True,\n",
    "        max_length=max_len,\n",
    "        return_tensors='tf'\n",
    "    )"
   ]
  },
  {
   "cell_type": "code",
   "execution_count": 20,
   "metadata": {
    "execution": {
     "iopub.execute_input": "2025-06-09T15:21:48.738752Z",
     "iopub.status.busy": "2025-06-09T15:21:48.738471Z",
     "iopub.status.idle": "2025-06-09T15:21:51.354504Z",
     "shell.execute_reply": "2025-06-09T15:21:51.353954Z",
     "shell.execute_reply.started": "2025-06-09T15:21:48.738726Z"
    },
    "trusted": true
   },
   "outputs": [],
   "source": [
    "# ─── 5) BUILD TF.DATA.DATASET\n",
    "def make_dataset(df, batch_size=16, shuffle=False):\n",
    "    toks = tokenize_texts(df['msg'])\n",
    "    labels = tf.convert_to_tensor(df['label'].values)\n",
    "    ds = tf.data.Dataset.from_tensor_slices((\n",
    "        {'input_ids': toks['input_ids'],\n",
    "         'attention_mask': toks['attention_mask']},\n",
    "        labels\n",
    "    ))\n",
    "    if shuffle:\n",
    "        ds = ds.shuffle(len(df))\n",
    "    return ds.batch(batch_size)\n",
    "\n",
    "train_ds = make_dataset(train_df, batch_size=16, shuffle=True)\n",
    "val_ds   = make_dataset(val_df,   batch_size=32)"
   ]
  },
  {
   "cell_type": "code",
   "execution_count": 21,
   "metadata": {
    "execution": {
     "iopub.execute_input": "2025-06-09T15:21:51.355462Z",
     "iopub.status.busy": "2025-06-09T15:21:51.355278Z",
     "iopub.status.idle": "2025-06-09T15:21:52.880128Z",
     "shell.execute_reply": "2025-06-09T15:21:52.879529Z",
     "shell.execute_reply.started": "2025-06-09T15:21:51.355448Z"
    },
    "trusted": true
   },
   "outputs": [
    {
     "name": "stderr",
     "output_type": "stream",
     "text": [
      "All model checkpoint layers were used when initializing TFRobertaForSequenceClassification.\n",
      "\n",
      "Some layers of TFRobertaForSequenceClassification were not initialized from the model checkpoint at vinai/bertweet-base and are newly initialized: ['classifier']\n",
      "You should probably TRAIN this model on a down-stream task to be able to use it for predictions and inference.\n"
     ]
    }
   ],
   "source": [
    "# ─── 6) LOAD TF MODEL\n",
    "with tf.device('/GPU:0'):   # remove or change if no GPU\n",
    "    model = TFAutoModelForSequenceClassification.from_pretrained(\n",
    "        MODEL_ID,\n",
    "        num_labels=3\n",
    "    )"
   ]
  },
  {
   "cell_type": "code",
   "execution_count": 22,
   "metadata": {
    "execution": {
     "iopub.execute_input": "2025-06-09T15:21:52.881005Z",
     "iopub.status.busy": "2025-06-09T15:21:52.880780Z",
     "iopub.status.idle": "2025-06-09T15:53:14.050666Z",
     "shell.execute_reply": "2025-06-09T15:53:14.049885Z",
     "shell.execute_reply.started": "2025-06-09T15:21:52.880988Z"
    },
    "trusted": true
   },
   "outputs": [
    {
     "name": "stdout",
     "output_type": "stream",
     "text": [
      "Epoch 1/10\n",
      "398/398 [==============================] - 237s 477ms/step - loss: 0.4300 - accuracy: 0.8397 - val_loss: 0.3013 - val_accuracy: 0.8914\n",
      "Epoch 2/10\n",
      "398/398 [==============================] - 183s 461ms/step - loss: 0.2270 - accuracy: 0.9218 - val_loss: 0.3119 - val_accuracy: 0.8958\n",
      "Epoch 3/10\n",
      "398/398 [==============================] - 182s 458ms/step - loss: 0.1486 - accuracy: 0.9493 - val_loss: 0.3015 - val_accuracy: 0.8996\n",
      "Epoch 4/10\n",
      "398/398 [==============================] - 183s 460ms/step - loss: 0.0945 - accuracy: 0.9672 - val_loss: 0.3529 - val_accuracy: 0.8989\n",
      "Epoch 5/10\n",
      "398/398 [==============================] - 182s 458ms/step - loss: 0.0794 - accuracy: 0.9758 - val_loss: 0.3879 - val_accuracy: 0.8983\n",
      "Epoch 6/10\n",
      "398/398 [==============================] - 183s 460ms/step - loss: 0.0538 - accuracy: 0.9827 - val_loss: 0.3754 - val_accuracy: 0.9014\n",
      "Epoch 7/10\n",
      "398/398 [==============================] - 183s 459ms/step - loss: 0.0477 - accuracy: 0.9849 - val_loss: 0.5603 - val_accuracy: 0.8807\n",
      "Epoch 8/10\n",
      "398/398 [==============================] - 182s 458ms/step - loss: 0.0487 - accuracy: 0.9856 - val_loss: 0.4655 - val_accuracy: 0.8920\n",
      "Epoch 9/10\n",
      "398/398 [==============================] - 183s 459ms/step - loss: 0.0282 - accuracy: 0.9910 - val_loss: 0.5540 - val_accuracy: 0.8883\n",
      "Epoch 10/10\n",
      "398/398 [==============================] - 182s 458ms/step - loss: 0.0526 - accuracy: 0.9854 - val_loss: 0.4285 - val_accuracy: 0.8927\n"
     ]
    },
    {
     "data": {
      "text/plain": [
       "<tf_keras.src.callbacks.History at 0x7e23c45949d0>"
      ]
     },
     "execution_count": 22,
     "metadata": {},
     "output_type": "execute_result"
    }
   ],
   "source": [
    "# ─── 7) COMPILE & TRAIN\n",
    "optimizer = tf.keras.optimizers.Adam(learning_rate=3e-5)\n",
    "loss      = tf.keras.losses.SparseCategoricalCrossentropy(from_logits=True)\n",
    "\n",
    "model.compile(optimizer=optimizer, loss=loss, metrics=['accuracy'])\n",
    "model.fit(train_ds, validation_data=val_ds, epochs=10)"
   ]
  },
  {
   "cell_type": "code",
   "execution_count": 23,
   "metadata": {
    "execution": {
     "iopub.execute_input": "2025-06-09T15:53:14.051986Z",
     "iopub.status.busy": "2025-06-09T15:53:14.051669Z",
     "iopub.status.idle": "2025-06-09T15:53:32.845795Z",
     "shell.execute_reply": "2025-06-09T15:53:32.844983Z",
     "shell.execute_reply.started": "2025-06-09T15:53:14.051961Z"
    },
    "trusted": true
   },
   "outputs": [
    {
     "name": "stdout",
     "output_type": "stream",
     "text": [
      "50/50 [==============================] - 19s 277ms/step\n",
      "Validation macro-F1: 0.885706774752427\n"
     ]
    }
   ],
   "source": [
    "# ─── 8) EVALUATE F1 ON VAL\n",
    "y_true = np.concatenate([y for x,y in val_ds], axis=0)\n",
    "logits = model.predict(val_ds)['logits']\n",
    "y_pred = np.argmax(logits, axis=1)\n",
    "print(\"Validation macro-F1:\", f1_score(y_true, y_pred, average='macro'))"
   ]
  },
  {
   "cell_type": "code",
   "execution_count": 26,
   "metadata": {
    "execution": {
     "iopub.execute_input": "2025-06-09T16:09:30.637562Z",
     "iopub.status.busy": "2025-06-09T16:09:30.636827Z",
     "iopub.status.idle": "2025-06-09T16:44:39.106322Z",
     "shell.execute_reply": "2025-06-09T16:44:39.105553Z",
     "shell.execute_reply.started": "2025-06-09T16:09:30.637540Z"
    },
    "trusted": true
   },
   "outputs": [
    {
     "name": "stdout",
     "output_type": "stream",
     "text": [
      "Epoch 1/10\n",
      "498/498 [==============================] - 211s 424ms/step - loss: 0.0322 - accuracy: 0.9916\n",
      "Epoch 2/10\n",
      "498/498 [==============================] - 211s 423ms/step - loss: 0.0279 - accuracy: 0.9928\n",
      "Epoch 3/10\n",
      "498/498 [==============================] - 211s 424ms/step - loss: 0.0314 - accuracy: 0.9913\n",
      "Epoch 4/10\n",
      "498/498 [==============================] - 211s 424ms/step - loss: 0.0269 - accuracy: 0.9923\n",
      "Epoch 5/10\n",
      "498/498 [==============================] - 210s 423ms/step - loss: 0.0209 - accuracy: 0.9933\n",
      "Epoch 6/10\n",
      "498/498 [==============================] - 210s 422ms/step - loss: 0.0296 - accuracy: 0.9887\n",
      "Epoch 7/10\n",
      "498/498 [==============================] - 210s 422ms/step - loss: 0.0167 - accuracy: 0.9947\n",
      "Epoch 8/10\n",
      "498/498 [==============================] - 210s 422ms/step - loss: 0.0273 - accuracy: 0.9920\n",
      "Epoch 9/10\n",
      "498/498 [==============================] - 210s 423ms/step - loss: 0.0344 - accuracy: 0.9893\n",
      "Epoch 10/10\n",
      "498/498 [==============================] - 211s 423ms/step - loss: 0.0109 - accuracy: 0.9960\n"
     ]
    },
    {
     "data": {
      "text/plain": [
       "<tf_keras.src.callbacks.History at 0x7e220cd72650>"
      ]
     },
     "execution_count": 26,
     "metadata": {},
     "output_type": "execute_result"
    }
   ],
   "source": [
    "# ─── 9) RETRAIN ON FULL LABELED SET\n",
    "full_ds = make_dataset(labeled, batch_size=16, shuffle=True)\n",
    "model.fit(full_ds, epochs=10)\n"
   ]
  },
  {
   "cell_type": "code",
   "execution_count": null,
   "metadata": {
    "execution": {
     "iopub.execute_input": "2025-06-09T16:44:39.108018Z",
     "iopub.status.busy": "2025-06-09T16:44:39.107557Z",
     "iopub.status.idle": "2025-06-09T16:44:57.646768Z",
     "shell.execute_reply": "2025-06-09T16:44:57.646196Z",
     "shell.execute_reply.started": "2025-06-09T16:44:39.108000Z"
    },
    "trusted": true
   },
   "outputs": [
    {
     "name": "stdout",
     "output_type": "stream",
     "text": [
      "64/64 [==============================] - 18s 280ms/step\n",
      "Wrote predictions.csv with 2039 rows.\n"
     ]
    }
   ],
   "source": [
    "# ─── 10) PREDICT UNLABELED\n",
    "unlabeled = pd.read_csv(\"FB_posts_unlabeled.txt\", sep=\"\\t\")\n",
    "unlabeled['msg'] = unlabeled['message'].astype(str).map(clean_text)\n",
    "un_toks = tokenize_texts(unlabeled['msg'])\n",
    "un_ds = tf.data.Dataset.from_tensor_slices({\n",
    "    'input_ids':     un_toks['input_ids'],\n",
    "    'attention_mask':un_toks['attention_mask']\n",
    "}).batch(32)\n",
    "\n",
    "logits = model.predict(un_ds)['logits']\n",
    "labels = np.argmax(logits, axis=1)\n",
    "\n",
    "# one-hot encode\n",
    "one_hot = np.zeros((len(labels), 3), dtype=int)\n",
    "one_hot[np.arange(len(labels)), labels] = 1\n",
    "\n",
    "# ─── 11) SAVE PREDICTIONS\n",
    "out = pd.DataFrame({\n",
    "    'postId':            unlabeled['postId'],\n",
    "    'Appreciation_pred': one_hot[:,0],\n",
    "    'Complaint_pred':    one_hot[:,1],\n",
    "    'Feedback_pred':     one_hot[:,2],\n",
    "})\n",
    "out.to_csv(\"predictions.csv\", index=False)\n",
    "print(\"Wrote predictions.csv with\", len(out), \"rows.\")"
   ]
  }
 ],
 "metadata": {
  "kaggle": {
   "accelerator": "nvidiaTeslaT4",
   "dataSources": [
    {
     "datasetId": 7473260,
     "sourceId": 11889935,
     "sourceType": "datasetVersion"
    }
   ],
   "dockerImageVersionId": 31041,
   "isGpuEnabled": true,
   "isInternetEnabled": true,
   "language": "python",
   "sourceType": "notebook"
  },
  "kernelspec": {
   "display_name": "Python 3",
   "language": "python",
   "name": "python3"
  },
  "language_info": {
   "codemirror_mode": {
    "name": "ipython",
    "version": 3
   },
   "file_extension": ".py",
   "mimetype": "text/x-python",
   "name": "python",
   "nbconvert_exporter": "python",
   "pygments_lexer": "ipython3",
   "version": "3.11.11"
  }
 },
 "nbformat": 4,
 "nbformat_minor": 4
}
